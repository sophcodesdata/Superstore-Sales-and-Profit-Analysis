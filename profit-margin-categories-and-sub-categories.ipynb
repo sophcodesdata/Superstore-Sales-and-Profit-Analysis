{
 "cells": [
  {
   "cell_type": "markdown",
   "metadata": {},
   "source": [
    "**Sales and Profit Analysis**\n",
    "\n",
    "The purpose of this project is to carry out an in-depth analysis of a superstore dataset. This dataset was retrieved from Kaggle.\n",
    "(This project is still in progress)\n",
    "I have created a fictitious business scenario with a superstore called Mackey's.\n",
    "Mackey has requested I carry out an analysis of a dataset of a branch of theirs with the following business objectives: \n",
    "1. Enhance **Overall Profitability** by increasing stock supply of **high-margin product sub-categories** and restructuring **low-margin product sub-categories**.\n",
    "2. Tailor marketing strategies to **customer segments** bringing in the **most profit**.\n",
    "3. Optimize marketing strategies in **underperforming regions** with growth potential to drive profitability and enhance customer engagement."
   ]
  },
  {
   "cell_type": "code",
   "execution_count": null,
   "metadata": {
    "trusted": true,
    "vscode": {
     "languageId": "r"
    }
   },
   "outputs": [],
   "source": [
    "library(tidyverse)\n",
    "library(dplyr)\n",
    "library(ggplot2)\n",
    "library(lubridate)"
   ]
  },
  {
   "cell_type": "markdown",
   "metadata": {},
   "source": []
  },
  {
   "cell_type": "code",
   "execution_count": null,
   "metadata": {
    "trusted": true,
    "vscode": {
     "languageId": "r"
    }
   },
   "outputs": [],
   "source": [
    "superstore_data <- read.csv(\"/kaggle/input/superstore-dataset-final/Sample - Superstore.csv\")\n"
   ]
  },
  {
   "cell_type": "code",
   "execution_count": null,
   "metadata": {
    "trusted": true,
    "vscode": {
     "languageId": "r"
    }
   },
   "outputs": [],
   "source": [
    "head(superstore_data)\n"
   ]
  },
  {
   "cell_type": "code",
   "execution_count": null,
   "metadata": {
    "trusted": true,
    "vscode": {
     "languageId": "r"
    }
   },
   "outputs": [],
   "source": [
    "sum(is.na(superstore_data))"
   ]
  },
  {
   "cell_type": "code",
   "execution_count": null,
   "metadata": {
    "trusted": true,
    "vscode": {
     "languageId": "r"
    }
   },
   "outputs": [],
   "source": [
    "str(superstore_data)\n"
   ]
  },
  {
   "cell_type": "code",
   "execution_count": null,
   "metadata": {
    "trusted": true,
    "vscode": {
     "languageId": "r"
    }
   },
   "outputs": [],
   "source": [
    "profit_percentage <- superstore_data %>% group_by(Category) %>%summarise(Total_Profit = sum(Profit, na.rm = TRUE)) %>% mutate(Profit_Percentage = (Total_Profit/sum(Total_Profit) * 100))"
   ]
  },
  {
   "cell_type": "code",
   "execution_count": null,
   "metadata": {
    "trusted": true,
    "vscode": {
     "languageId": "r"
    }
   },
   "outputs": [],
   "source": [
    "print(profit_percentage)"
   ]
  },
  {
   "cell_type": "code",
   "execution_count": null,
   "metadata": {
    "trusted": true,
    "vscode": {
     "languageId": "r"
    }
   },
   "outputs": [],
   "source": [
    "ggplot(profit_percentage, aes(x = \"\", y = Profit_Percentage, fill = Category)) + \n",
    "  geom_bar(stat = \"identity\", width = 1, color = \"white\") + \n",
    "  coord_polar(\"y\", start = 0) + \n",
    "  theme_void() +  # Removes unnecessary background\n",
    "  labs(title = \"Profit Percentage by Category(%)\", fill = \"Category\") + geom_text(aes(label = Profit_Percentage), \n",
    "            position = position_stack(vjust = 0.5), \n",
    "            color = \"black\", size = 5) "
   ]
  },
  {
   "cell_type": "code",
   "execution_count": null,
   "metadata": {
    "trusted": true,
    "vscode": {
     "languageId": "r"
    }
   },
   "outputs": [],
   "source": [
    "profit_margin_sub_category <- superstore_data %>% group_by(Sub.Category) %>% summarise(Total_Profit = sum(Profit, na.rm = TRUE), Total_Sales = sum(Sales, na.rm = TRUE)) %>% mutate(Profit_Margin = (Total_Profit/sum(Total_Sales) * 100))"
   ]
  },
  {
   "cell_type": "code",
   "execution_count": null,
   "metadata": {
    "trusted": true,
    "vscode": {
     "languageId": "r"
    }
   },
   "outputs": [],
   "source": [
    "\n",
    "head(profit_margin_sub_category)"
   ]
  },
  {
   "cell_type": "code",
   "execution_count": null,
   "metadata": {
    "trusted": true,
    "vscode": {
     "languageId": "r"
    }
   },
   "outputs": [],
   "source": [
    "print(profit_margin_sub_category)"
   ]
  },
  {
   "cell_type": "code",
   "execution_count": null,
   "metadata": {
    "trusted": true,
    "vscode": {
     "languageId": "r"
    }
   },
   "outputs": [],
   "source": [
    "ggplot(profit_margin_sub_category, aes(x = reorder(Sub.Category, Profit_Margin), y = Profit_Margin, fill = Profit_Margin > 0)) +\n",
    "  geom_bar(stat = \"identity\") +\n",
    "  coord_flip() +  \n",
    "  scale_fill_manual(values = c(\"red\", \"blue\")) + \n",
    "  labs(title = \"Total Profit by Sub-Category\",\n",
    "       x = \"Sub-Category\", \n",
    "       y = \"Profit Margin(%)\") +\n",
    "  theme_minimal()"
   ]
  },
  {
   "cell_type": "code",
   "execution_count": null,
   "metadata": {
    "trusted": true,
    "vscode": {
     "languageId": "r"
    }
   },
   "outputs": [],
   "source": []
  }
 ],
 "metadata": {
  "kaggle": {
   "accelerator": "none",
   "dataSources": [
    {
     "datasetId": 1940216,
     "sourceId": 3196104,
     "sourceType": "datasetVersion"
    }
   ],
   "dockerImageVersionId": 30749,
   "isGpuEnabled": false,
   "isInternetEnabled": true,
   "language": "r",
   "sourceType": "notebook"
  },
  "kernelspec": {
   "display_name": "R",
   "language": "R",
   "name": "ir"
  },
  "language_info": {
   "codemirror_mode": "r",
   "file_extension": ".r",
   "mimetype": "text/x-r-source",
   "name": "R",
   "pygments_lexer": "r",
   "version": "4.4.0"
  }
 },
 "nbformat": 4,
 "nbformat_minor": 4
}
